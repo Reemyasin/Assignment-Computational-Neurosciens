{
 "cells": [
  {
   "cell_type": "code",
   "execution_count": 1,
   "id": "367c21c2-1724-4cfd-982b-c540e3cc15e5",
   "metadata": {},
   "outputs": [
    {
     "name": "stdout",
     "output_type": "stream",
     "text": [
      "Initialized Weights:\n",
      "tensor([ 0.2892,  0.2590,  0.1349, -0.4456, -0.0562, -0.3067,  0.1278, -0.0220])\n",
      "Outputs: o1 = 0.4928, o2 = 0.6373\n",
      "Total Error: 0.1788\n"
     ]
    }
   ],
   "source": [
    "import torch\n",
    "\n",
    "# Define the custom Tanh activation function\n",
    "class Tanh:\n",
    "    def forward(self, x):\n",
    "        x_exp, neg_x_exp = torch.exp(x), torch.exp(-x)\n",
    "        return (x_exp - neg_x_exp) / (x_exp + neg_x_exp)\n",
    "\n",
    "# Define the neural network\n",
    "class SimpleNeuralNetwork:\n",
    "    def __init__(self):\n",
    "        # Initialize weights randomly in the range [-0.5, 0.5]\n",
    "        self.weights = (torch.rand(8) - 0.5)  # 8 random weights in [-0.5, 0.5]\n",
    "        self.biases = torch.tensor([0.5, 0.7])  # Biases as a tensor\n",
    "        \n",
    "        # Reshape weights for matrix operations\n",
    "        self.w_hidden = self.weights[:4].reshape(2, 2)  # Weights for hidden layer\n",
    "        self.w_output = self.weights[4:].reshape(2, 2)  # Weights for output layer\n",
    "        \n",
    "        self.tanh = Tanh()  # Use the custom Tanh implementation\n",
    "\n",
    "    def forward(self, inputs):\n",
    "        # Reshape inputs for matrix multiplication\n",
    "        inputs = inputs.reshape(2, 1)\n",
    "        \n",
    "        # Hidden layer calculations\n",
    "        net_hidden = torch.mm(self.w_hidden, inputs) + self.biases[0]  # Matrix multiplication\n",
    "        out_hidden = self.tanh.forward(net_hidden)\n",
    "        \n",
    "        # Output layer calculations\n",
    "        net_output = torch.mm(self.w_output, out_hidden) + self.biases[1]  # Matrix multiplication\n",
    "        out_output = self.tanh.forward(net_output)\n",
    "        \n",
    "        return out_output.flatten()  # Return flattened output\n",
    "\n",
    "    def calculate_error(self, outputs, targets):\n",
    "        # Squared error for each output neuron\n",
    "        error = 0.5 * torch.sum((targets - outputs) ** 2)\n",
    "        return error\n",
    "\n",
    "# Inputs and targets\n",
    "inputs = torch.tensor([0.05, 0.10])\n",
    "targets = torch.tensor([0.01, 0.99])\n",
    "\n",
    "# Initialize the neural network\n",
    "nn = SimpleNeuralNetwork()\n",
    "\n",
    "# Print initialized weights\n",
    "print(\"Initialized Weights:\")\n",
    "print(nn.weights)\n",
    "\n",
    "# Forward pass\n",
    "outputs = nn.forward(inputs)\n",
    "print(f\"Outputs: o1 = {outputs[0].item():.4f}, o2 = {outputs[1].item():.4f}\")\n",
    "\n",
    "# Calculate error\n",
    "error = nn.calculate_error(outputs, targets)\n",
    "print(f\"Total Error: {error.item():.4f}\")"
   ]
  },
  {
   "cell_type": "code",
   "execution_count": null,
   "id": "61e90cb5-9c92-432d-af4e-52d83a9996f8",
   "metadata": {},
   "outputs": [],
   "source": []
  }
 ],
 "metadata": {
  "kernelspec": {
   "display_name": "Python 3 (ipykernel)",
   "language": "python",
   "name": "python3"
  },
  "language_info": {
   "codemirror_mode": {
    "name": "ipython",
    "version": 3
   },
   "file_extension": ".py",
   "mimetype": "text/x-python",
   "name": "python",
   "nbconvert_exporter": "python",
   "pygments_lexer": "ipython3",
   "version": "3.12.4"
  }
 },
 "nbformat": 4,
 "nbformat_minor": 5
}
